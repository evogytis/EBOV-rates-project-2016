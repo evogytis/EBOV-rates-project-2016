{
 "cells": [
  {
   "cell_type": "markdown",
   "metadata": {},
   "source": [
    "This simple script will take the sequences [here](https://github.com/evogytis/EBOV-rates-project-2016/blob/master/alignments/Gire_Mali_corrected.fasta) and [here](https://github.com/evogytis/EBOV-rates-project-2016/blob/master/alignments/Gire_Mali_old.fasta) output two alignments with just the ones from the [Gire et al (2014)](http://www.sciencemag.org/content/345/6202/1369.full) study, with their \"old\" and final (\"correct\") dates."
   ]
  },
  {
   "cell_type": "code",
   "execution_count": 1,
   "metadata": {
    "collapsed": true
   },
   "outputs": [],
   "source": [
    "library(ape)\n",
    "Aln.old <- read.dna(file = \"../alignments/Gire_Mali_old.fasta\", format = \"fasta\") ## old alignment\n",
    "Aln.corrected <- read.dna(file = \"../alignments/Gire_Mali_correct.fasta\", format = \"fasta\") ## correct alignment"
   ]
  },
  {
   "cell_type": "markdown",
   "metadata": {},
   "source": [
    "Now let's find the ones from Mali:"
   ]
  },
  {
   "cell_type": "code",
   "execution_count": 2,
   "metadata": {
    "collapsed": false
   },
   "outputs": [
    {
     "data": {
      "text/html": [
       "<ol class=list-inline>\n",
       "\t<li>1</li>\n",
       "\t<li>2</li>\n",
       "\t<li>3</li>\n",
       "\t<li>4</li>\n",
       "</ol>\n"
      ],
      "text/latex": [
       "\\begin{enumerate*}\n",
       "\\item 1\n",
       "\\item 2\n",
       "\\item 3\n",
       "\\item 4\n",
       "\\end{enumerate*}\n"
      ],
      "text/markdown": [
       "1. 1\n",
       "2. 2\n",
       "3. 3\n",
       "4. 4\n",
       "\n",
       "\n"
      ],
      "text/plain": [
       "[1] 1 2 3 4"
      ]
     },
     "execution_count": 2,
     "metadata": {},
     "output_type": "execute_result"
    },
    {
     "data": {
      "text/html": [
       "<ol class=list-inline>\n",
       "\t<li>1</li>\n",
       "\t<li>2</li>\n",
       "\t<li>3</li>\n",
       "\t<li>4</li>\n",
       "</ol>\n"
      ],
      "text/latex": [
       "\\begin{enumerate*}\n",
       "\\item 1\n",
       "\\item 2\n",
       "\\item 3\n",
       "\\item 4\n",
       "\\end{enumerate*}\n"
      ],
      "text/markdown": [
       "1. 1\n",
       "2. 2\n",
       "3. 3\n",
       "4. 4\n",
       "\n",
       "\n"
      ],
      "text/plain": [
       "[1] 1 2 3 4"
      ]
     },
     "execution_count": 2,
     "metadata": {},
     "output_type": "execute_result"
    }
   ],
   "source": [
    "( mali.pos.old <- grep(\"Mali\", rownames(Aln.old)) )\n",
    "( mali.pos.corrected <- grep(\"Mali\", rownames(Aln.corrected)) )"
   ]
  },
  {
   "cell_type": "markdown",
   "metadata": {},
   "source": [
    "And exclude them:"
   ]
  },
  {
   "cell_type": "code",
   "execution_count": 7,
   "metadata": {
    "collapsed": false
   },
   "outputs": [],
   "source": [
    "toget.pos.old <- setdiff(seq_len(nrow(Aln.old)), mali.pos.old) ## Aln - Mali = Gire\n",
    "toget.pos.corrected <- setdiff(seq_len(nrow(Aln.corrected)), mali.pos.corrected) ## Pedantic, I know. But for the sake of completeness."
   ]
  },
  {
   "cell_type": "code",
   "execution_count": 8,
   "metadata": {
    "collapsed": false
   },
   "outputs": [
    {
     "data": {
      "text/plain": [
       "102 DNA sequences in binary format stored in a matrix.\n",
       "\n",
       "All sequences of same length: 18959 \n",
       "\n",
       "Labels: KM233035|Makona-EM104|2014-06-02 KM233073|Makona-G3786|2014-06-14 KM233078|Makona-G3796|2014-06-15 KM233042|Makona-EM119|2014-06-03 KM233040|Makona-EM113|2014-06-03 KM233049|Makona-G3707|2014-06-06 ...\n",
       "\n",
       "More than 1 million nucleotides: not printing base composition"
      ]
     },
     "execution_count": 8,
     "metadata": {},
     "output_type": "execute_result"
    },
    {
     "data": {
      "text/plain": [
       "102 DNA sequences in binary format stored in a matrix.\n",
       "\n",
       "All sequences of same length: 18959 \n",
       "\n",
       "Labels: KM233035|Makona-EM104|2014-06-02 KM233073|Makona-G3786|2014-06-14 KM233078|Makona-G3796|2014-06-15 KM233042|Makona-EM119|2014-06-03 KM233040|Makona-EM113|2014-06-03 KM233049|Makona-G3707|2014-05-31 ...\n",
       "\n",
       "More than 1 million nucleotides: not printing base composition"
      ]
     },
     "execution_count": 8,
     "metadata": {},
     "output_type": "execute_result"
    }
   ],
   "source": [
    "Gire.old <- Aln.old[toget.pos.old, ]\n",
    "Gire.old\n",
    "write.dna(Gire.old, file = \"../alignments/Gire_old.fasta\", format = \"fasta\")\n",
    "#\n",
    "Gire.corrected <- Aln.corrected[toget.pos.corrected, ]\n",
    "Gire.corrected\n",
    "write.dna(Gire.corrected, file = \"../alignments/Gire_correct.fasta\", format = \"fasta\")"
   ]
  }
 ],
 "metadata": {
  "kernelspec": {
   "display_name": "R",
   "language": "R",
   "name": "ir"
  },
  "language_info": {
   "codemirror_mode": "r",
   "file_extension": ".r",
   "mimetype": "text/x-r-source",
   "name": "R",
   "pygments_lexer": "r",
   "version": "3.2.3"
  }
 },
 "nbformat": 4,
 "nbformat_minor": 0
}
