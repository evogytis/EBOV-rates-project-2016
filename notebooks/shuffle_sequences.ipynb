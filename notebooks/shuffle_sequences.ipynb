{
 "cells": [
  {
   "cell_type": "markdown",
   "metadata": {},
   "source": [
    "This script will take the sequences in [Gire_Mali_old.fasta](https://github.com/evogytis/EBOV-rates-project-2016/blob/master/alignments/Gire_Mali_old.fasta) and, keeping the sequences from Guinea and Mali intact, sort the labels of the remaining sequences. This will produce a \"shuffling\" of the sequences, that is, a mismatch between the sequences and their correct labels. The idea is to investigate to which extent randomising the Gire et al. labels would impact the evolutionary rate estimates."
   ]
  },
  {
   "cell_type": "code",
   "execution_count": null,
   "metadata": {
    "collapsed": false
   },
   "outputs": [],
   "source": [
    "library(ape)\n",
    "Aln <- read.dna(file = \"../alignments/Gire_oldBaize_old.fasta\", format = \"fasta\")\n",
    "Aln\n",
    "head(rownames(Aln), 10)\n",
    "scramble_labels <- function(aln){\n",
    "  mali.pos <- grep(\"Mali\", rownames(aln))\n",
    "  guinea.pos <- c(grep(\"Kissidougou\", rownames(aln)), grep(\"Gueckedou\", rownames(aln)))\n",
    "  not.change <- c(mali.pos, guinea.pos)\n",
    "  Tochange <- rownames(aln)[-not.change] ## which labels we will \"scramble\"\n",
    "  \n",
    "  scrambled.Labels <- rownames(aln)\n",
    "  scrambled.Labels[setdiff(seq_along(scrambled.Labels), not.change)] <- sample(Tochange)\n",
    "  aln.scrambled <- aln\n",
    "  rownames(aln.scrambled) <- scrambled.Labels\n",
    "  return(aln.scrambled)\n",
    "}\n",
    "# Asserting...\n",
    "assert_aln <- function(aln){\n",
    "  ( all.equal(grep(\"Mali\", rownames(Aln)), grep(\"Mali\", rownames(aln))) )\n",
    "  ( all.equal(c(grep(\"Kissidougou\", rownames(Aln)), grep(\"Gueckedou\", rownames(Aln))),\n",
    "              c(grep(\"Kissidougou\", rownames(aln)), grep(\"Gueckedou\", rownames(aln))))\n",
    "  )\n",
    "}\n",
    "Nrep <- 10\n",
    "Shuffled <- lapply(1:Nrep, function(i) scramble_labels(Aln))\n",
    "Shuffled\n",
    "lapply(Shuffled, assert_aln)\n",
    "lapply(seq_along(Shuffled),\n",
    "       function(x) write.dna(Shuffled[[x]], \n",
    "                             file = paste(\"../alignments/random_labels/Gire_oldBaize_old_shuffled_rep_\", x, \".fasta\", sep = \"\"),\n",
    "                             format = \"fasta\"))"
   ]
  }
 ],
 "metadata": {
  "kernelspec": {
   "display_name": "R",
   "language": "R",
   "name": "ir"
  },
  "language_info": {
   "codemirror_mode": "r",
   "file_extension": ".r",
   "mimetype": "text/x-r-source",
   "name": "R",
   "pygments_lexer": "r",
   "version": "3.2.3"
  }
 },
 "nbformat": 4,
 "nbformat_minor": 0
}
