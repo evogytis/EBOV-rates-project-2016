{
 "cells": [
  {
   "cell_type": "markdown",
   "metadata": {},
   "source": [
    "This script will take the sequences in [Gire_Mali_old.fasta](https://github.com/evogytis/EBOV-rates-project-2016/blob/master/alignments/Gire_Mali_old.fasta) and, keeping the sequences from Guinea and Mali intact, sort the labels of the remaining sequences. This will produce a \"shuffling\" of the sequences, that is, a mismatch between the sequences and their correct labels."
   ]
  },
  {
   "cell_type": "code",
   "execution_count": null,
   "metadata": {
    "collapsed": false
   },
   "outputs": [
    {
     "data": {
      "text/plain": [
       "106 DNA sequences in binary format stored in a matrix.\n",
       "\n",
       "All sequences of same length: 18959 \n",
       "\n",
       "Labels: KP260799|Makona-Mali-DPR1|2014-10-23 KP260800|Makona-Mali-DPR2|2014-11-12 KP260801|Makona-Mali-DPR3|2014-11-21 KP260802|Makona-Mali-DPR4|2014-11-12 KM233035|Makona-EM104|2014-06-02 KM233073|Makona-G3786|2014-06-14 ...\n",
       "\n",
       "More than 1 million nucleotides: not printing base composition"
      ]
     },
     "execution_count": 26,
     "metadata": {},
     "output_type": "execute_result"
    },
    {
     "data": {
      "text/html": [
       "<ol class=list-inline>\n",
       "\t<li>'KP260799|Makona-Mali-DPR1|2014-10-23'</li>\n",
       "\t<li>'KP260800|Makona-Mali-DPR2|2014-11-12'</li>\n",
       "\t<li>'KP260801|Makona-Mali-DPR3|2014-11-21'</li>\n",
       "\t<li>'KP260802|Makona-Mali-DPR4|2014-11-12'</li>\n",
       "\t<li>'KM233035|Makona-EM104|2014-06-02'</li>\n",
       "\t<li>'KM233073|Makona-G3786|2014-06-14'</li>\n",
       "\t<li>'KM233078|Makona-G3796|2014-06-15'</li>\n",
       "\t<li>'KM233042|Makona-EM119|2014-06-03'</li>\n",
       "\t<li>'KM233040|Makona-EM113|2014-06-03'</li>\n",
       "\t<li>'KM233049|Makona-G3707|2014-06-06'</li>\n",
       "</ol>\n"
      ],
      "text/latex": [
       "\\begin{enumerate*}\n",
       "\\item 'KP260799|Makona-Mali-DPR1|2014-10-23'\n",
       "\\item 'KP260800|Makona-Mali-DPR2|2014-11-12'\n",
       "\\item 'KP260801|Makona-Mali-DPR3|2014-11-21'\n",
       "\\item 'KP260802|Makona-Mali-DPR4|2014-11-12'\n",
       "\\item 'KM233035|Makona-EM104|2014-06-02'\n",
       "\\item 'KM233073|Makona-G3786|2014-06-14'\n",
       "\\item 'KM233078|Makona-G3796|2014-06-15'\n",
       "\\item 'KM233042|Makona-EM119|2014-06-03'\n",
       "\\item 'KM233040|Makona-EM113|2014-06-03'\n",
       "\\item 'KM233049|Makona-G3707|2014-06-06'\n",
       "\\end{enumerate*}\n"
      ],
      "text/markdown": [
       "1. 'KP260799|Makona-Mali-DPR1|2014-10-23'\n",
       "2. 'KP260800|Makona-Mali-DPR2|2014-11-12'\n",
       "3. 'KP260801|Makona-Mali-DPR3|2014-11-21'\n",
       "4. 'KP260802|Makona-Mali-DPR4|2014-11-12'\n",
       "5. 'KM233035|Makona-EM104|2014-06-02'\n",
       "6. 'KM233073|Makona-G3786|2014-06-14'\n",
       "7. 'KM233078|Makona-G3796|2014-06-15'\n",
       "8. 'KM233042|Makona-EM119|2014-06-03'\n",
       "9. 'KM233040|Makona-EM113|2014-06-03'\n",
       "10. 'KM233049|Makona-G3707|2014-06-06'\n",
       "\n",
       "\n"
      ],
      "text/plain": [
       " [1] \"KP260799|Makona-Mali-DPR1|2014-10-23\"\n",
       " [2] \"KP260800|Makona-Mali-DPR2|2014-11-12\"\n",
       " [3] \"KP260801|Makona-Mali-DPR3|2014-11-21\"\n",
       " [4] \"KP260802|Makona-Mali-DPR4|2014-11-12\"\n",
       " [5] \"KM233035|Makona-EM104|2014-06-02\"    \n",
       " [6] \"KM233073|Makona-G3786|2014-06-14\"    \n",
       " [7] \"KM233078|Makona-G3796|2014-06-15\"    \n",
       " [8] \"KM233042|Makona-EM119|2014-06-03\"    \n",
       " [9] \"KM233040|Makona-EM113|2014-06-03\"    \n",
       "[10] \"KM233049|Makona-G3707|2014-06-06\"    "
      ]
     },
     "execution_count": 26,
     "metadata": {},
     "output_type": "execute_result"
    },
    {
     "data": {
      "text/html": [
       "<ol class=list-inline>\n",
       "\t<li>1</li>\n",
       "\t<li>2</li>\n",
       "\t<li>3</li>\n",
       "\t<li>4</li>\n",
       "</ol>\n"
      ],
      "text/latex": [
       "\\begin{enumerate*}\n",
       "\\item 1\n",
       "\\item 2\n",
       "\\item 3\n",
       "\\item 4\n",
       "\\end{enumerate*}\n"
      ],
      "text/markdown": [
       "1. 1\n",
       "2. 2\n",
       "3. 3\n",
       "4. 4\n",
       "\n",
       "\n"
      ],
      "text/plain": [
       "[1] 1 2 3 4"
      ]
     },
     "execution_count": 26,
     "metadata": {},
     "output_type": "execute_result"
    },
    {
     "data": {
      "text/html": [
       "<ol class=list-inline>\n",
       "\t<li>104</li>\n",
       "\t<li>105</li>\n",
       "\t<li>106</li>\n",
       "</ol>\n"
      ],
      "text/latex": [
       "\\begin{enumerate*}\n",
       "\\item 104\n",
       "\\item 105\n",
       "\\item 106\n",
       "\\end{enumerate*}\n"
      ],
      "text/markdown": [
       "1. 104\n",
       "2. 105\n",
       "3. 106\n",
       "\n",
       "\n"
      ],
      "text/plain": [
       "[1] 104 105 106"
      ]
     },
     "execution_count": 26,
     "metadata": {},
     "output_type": "execute_result"
    },
    {
     "data": {
      "text/html": [
       "<table>\n",
       "<thead><tr><th></th><th scope=col>original</th><th scope=col>shuffled</th></tr></thead>\n",
       "<tbody>\n",
       "\t<tr><th scope=row>1</th><td>KM233035|Makona-EM104|2014-06-02</td><td>KM034549|Makona-EM095B|2014-06-01</td></tr>\n",
       "\t<tr><th scope=row>2</th><td>KM233073|Makona-G3786|2014-06-14</td><td>KM034550|Makona-EM095|2014-06-01</td></tr>\n",
       "\t<tr><th scope=row>3</th><td>KM233078|Makona-G3796|2014-06-15</td><td>KM034551|Makona-EM096|2014-06-01</td></tr>\n",
       "\t<tr><th scope=row>4</th><td>KM233042|Makona-EM119|2014-06-03</td><td>KM034552|Makona-EM098|2014-06-01</td></tr>\n",
       "\t<tr><th scope=row>5</th><td>KM233040|Makona-EM113|2014-06-03</td><td>KM034553|Makona-G3670.1|2014-06-01</td></tr>\n",
       "\t<tr><th scope=row>6</th><td>KM233049|Makona-G3707|2014-06-06</td><td>KM034554|Makona-G3676.1|2014-06-01</td></tr>\n",
       "</tbody>\n",
       "</table>\n"
      ],
      "text/latex": [
       "\\begin{tabular}{r|ll}\n",
       "  & original & shuffled\\\\\n",
       "\\hline\n",
       "\t1 & KM233035|Makona-EM104|2014-06-02 & KM034549|Makona-EM095B|2014-06-01\\\\\n",
       "\t2 & KM233073|Makona-G3786|2014-06-14 & KM034550|Makona-EM095|2014-06-01\\\\\n",
       "\t3 & KM233078|Makona-G3796|2014-06-15 & KM034551|Makona-EM096|2014-06-01\\\\\n",
       "\t4 & KM233042|Makona-EM119|2014-06-03 & KM034552|Makona-EM098|2014-06-01\\\\\n",
       "\t5 & KM233040|Makona-EM113|2014-06-03 & KM034553|Makona-G3670.1|2014-06-01\\\\\n",
       "\t6 & KM233049|Makona-G3707|2014-06-06 & KM034554|Makona-G3676.1|2014-06-01\\\\\n",
       "\\end{tabular}\n"
      ],
      "text/plain": [
       "                          original                           shuffled\n",
       "1 KM233035|Makona-EM104|2014-06-02  KM034549|Makona-EM095B|2014-06-01\n",
       "2 KM233073|Makona-G3786|2014-06-14   KM034550|Makona-EM095|2014-06-01\n",
       "3 KM233078|Makona-G3796|2014-06-15   KM034551|Makona-EM096|2014-06-01\n",
       "4 KM233042|Makona-EM119|2014-06-03   KM034552|Makona-EM098|2014-06-01\n",
       "5 KM233040|Makona-EM113|2014-06-03 KM034553|Makona-G3670.1|2014-06-01\n",
       "6 KM233049|Makona-G3707|2014-06-06 KM034554|Makona-G3676.1|2014-06-01"
      ]
     },
     "execution_count": 26,
     "metadata": {},
     "output_type": "execute_result"
    },
    {
     "data": {
      "text/html": [
       "TRUE"
      ],
      "text/latex": [
       "TRUE"
      ],
      "text/markdown": [
       "TRUE"
      ],
      "text/plain": [
       "[1] TRUE"
      ]
     },
     "execution_count": 26,
     "metadata": {},
     "output_type": "execute_result"
    },
    {
     "data": {
      "text/html": [
       "TRUE"
      ],
      "text/latex": [
       "TRUE"
      ],
      "text/markdown": [
       "TRUE"
      ],
      "text/plain": [
       "[1] TRUE"
      ]
     },
     "execution_count": 26,
     "metadata": {},
     "output_type": "execute_result"
    }
   ],
   "source": [
    "library(ape)\n",
    "aln <- read.dna(file = \"../alignments/Gire_Mali_old.fasta\", format = \"fasta\")\n",
    "aln\n",
    "head(rownames(aln), 10)\n",
    "( mali.pos <- grep(\"Mali\", rownames(aln)) )\n",
    "( guinea.pos <- c(grep(\"Kissidougou\", rownames(aln)), grep(\"Gueckedou\", rownames(aln))) )\n",
    "not.change <- c(mali.pos, guinea.pos)\n",
    "Tochange <- rownames(aln)[-not.change] ## which labels we will \"scramble\"\n",
    "corresp <- data.frame(original = Tochange, shuffled = sort(Tochange)) ## look at the correspondence\n",
    "head(corresp)\n",
    "write.table(corresp, file = \"../alignments/shuffling_correspondence.txt\", row.names = FALSE)\n",
    "scrambled.Labels <- rownames(aln)\n",
    "scrambled.Labels[setdiff(seq_along(scrambled.Labels), not.change)] <- sort(Tochange)\n",
    "aln.scrambled <- aln\n",
    "rownames(aln.scrambled) <- scrambled.Labels\n",
    "# Asserting...\n",
    "all.equal(grep(\"Mali\", rownames(aln)), grep(\"Mali\", rownames(aln.scrambled)))\n",
    "all.equal(c(grep(\"Kissidougou\", rownames(aln)), grep(\"Gueckedou\", rownames(aln))),\n",
    "          c(grep(\"Kissidougou\", rownames(aln.scrambled)), grep(\"Gueckedou\", rownames(aln.scrambled)))\n",
    ")\n",
    "write.dna(aln.scrambled, file = \"../alignments/Gire_Mali_old_shuffled.fasta\", format = \"fasta\")"
   ]
  }
 ],
 "metadata": {
  "kernelspec": {
   "display_name": "R",
   "language": "R",
   "name": "ir"
  },
  "language_info": {
   "codemirror_mode": "r",
   "file_extension": ".r",
   "mimetype": "text/x-r-source",
   "name": "R",
   "pygments_lexer": "r",
   "version": "3.2.3"
  }
 },
 "nbformat": 4,
 "nbformat_minor": 0
}
