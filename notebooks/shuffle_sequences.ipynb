{
 "cells": [
  {
   "cell_type": "markdown",
   "metadata": {},
   "source": [
    "This script will try to reproduce the sequence label-scrambling observed in [this](https://github.com/evogytis/EBOV-rates-project-2016/blob/master/XMLs/GireWA_hkySCCS_20M_1.xml) XML.\n",
    "\n",
    "First, we will take the [strain mapping file](https://github.com/evogytis/EBOV-rates-project-2016/blob/master/data/strain_map.csv) (see [this notebook](https://github.com/evogytis/EBOV-rates-project-2016/blob/master/notebooks/EBOV_rates_project_2016.ipynb) for details), which tells us which sequences in GenBank match sequences in the original XML, and produce an [unique matching](https://github.com/evogytis/EBOV-rates-project-2016/blob/master/data/unique_strain_map.csv) by resolving the ambiguities. The reason such ambiguities exist is that many sequences are identical, hence one cannot exactly which labels got switched."
   ]
  },
  {
   "cell_type": "code",
   "execution_count": 38,
   "metadata": {
    "collapsed": false
   },
   "outputs": [],
   "source": [
    "Map <- read.table(\"../data/strain_map.csv\", header = TRUE, sep = \",\")\n",
    "create.unique.mapping <- function(non.unique.mapping){\n",
    "  ## 'non.unique.mapping' is a data.frame, where the second column may have multiple entries (matches)\n",
    "  ## The goal here is to produce (one of the possbible) unique mappings\n",
    "  ## For this we will iterate over the rows of the table:\n",
    "  ## if each column has only one entry, then this is an unique row; add it to the output and\n",
    "  ## exclude the ID in the second column from the remaining rows and proceed\n",
    "  ## The algorithm terminates when it reaches the last row and there's only one possible matching\n",
    "  ## The output is a 2 X N table with only unique mappings\n",
    "  \n",
    "  # 0) First, let's get the unique matchings out of the way:\n",
    "  nmatches <- function(x) unlist(lapply(strsplit(as.character(x), \";\"), length))\n",
    "  Nmatch <- nmatches(non.unique.mapping[ , 2])\n",
    "  res0 <- non.unique.mapping[which(Nmatch < 2), ] ## unique matches, 1st part of the answer\n",
    "      \n",
    "  # 1) Now let's iterate over the entries with more than one match and always take the FIRST one;    \n",
    "  Toresolve <- non.unique.mapping[which(Nmatch > 1), ] ## These are the ones that need resolving\n",
    "  K <- nrow(Toresolve)\n",
    "  res1 <- data.frame(matrix(NA, ncol = 2, nrow = K))\n",
    "  names(res1) <- names(res0) <- c(\"correct\", \"matching\")\n",
    "  res1[, 1] <- Toresolve[, 1]\n",
    "  Toresolve.list <- strsplit(as.character(Toresolve[, 2]), \";\")\n",
    "  for(row in 1:K){\n",
    "    entry <- Toresolve.list[[row]][1]\n",
    "    res1[row, 2] <- entry\n",
    "    Toresolve.list <- lapply(Toresolve.list, function(x) x[which(x != entry)])\n",
    "  }\n",
    "  res.final <- rbind(res0, res1)\n",
    "  names(res.final) <- c(\"correct\", \"matching\")\n",
    "  return(res.final) \n",
    "}\n",
    "uniqueMap <- create.unique.mapping(Map[, c(1, 3)])"
   ]
  },
  {
   "cell_type": "markdown",
   "metadata": {},
   "source": [
    "How many sequences have the correct label?"
   ]
  },
  {
   "cell_type": "code",
   "execution_count": 39,
   "metadata": {
    "collapsed": false
   },
   "outputs": [
    {
     "data": {
      "text/html": [
       "9"
      ],
      "text/latex": [
       "9"
      ],
      "text/markdown": [
       "9"
      ],
      "text/plain": [
       "[1] 9"
      ]
     },
     "execution_count": 39,
     "metadata": {},
     "output_type": "execute_result"
    }
   ],
   "source": [
    "sum( apply(uniqueMap, 1, function(row) row[1] == row[2]) )"
   ]
  },
  {
   "cell_type": "code",
   "execution_count": 40,
   "metadata": {
    "collapsed": true
   },
   "outputs": [],
   "source": [
    "write.csv(uniqueMap, file = \"../data/unique_strain_map.csv\", row.names = FALSE)"
   ]
  },
  {
   "cell_type": "markdown",
   "metadata": {},
   "source": [
    "Now let us take the [correct alignment](https://github.com/evogytis/EBOV-rates-project-2016/blob/master/alignments/Gire_Mali_old.fasta) and scramble the labels as per the unique mapping we just created."
   ]
  },
  {
   "cell_type": "code",
   "execution_count": 43,
   "metadata": {
    "collapsed": false
   },
   "outputs": [
    {
     "data": {
      "text/html": [
       "<ol class=list-inline>\n",
       "\t<li>'KP260799|Makona-Mali-DPR1|2014-10-23'</li>\n",
       "\t<li>'KP260800|Makona-Mali-DPR2|2014-11-12'</li>\n",
       "\t<li>'KP260801|Makona-Mali-DPR3|2014-11-21'</li>\n",
       "\t<li>'KP260802|Makona-Mali-DPR4|2014-11-12'</li>\n",
       "\t<li>'KM233035|Makona-EM104|2014-06-02'</li>\n",
       "\t<li>'KM233073|Makona-G3786|2014-06-14'</li>\n",
       "\t<li>'KM233078|Makona-G3796|2014-06-15'</li>\n",
       "\t<li>'KM233042|Makona-EM119|2014-06-03'</li>\n",
       "\t<li>'KM233040|Makona-EM113|2014-06-03'</li>\n",
       "\t<li>'KM233049|Makona-G3707|2014-06-06'</li>\n",
       "</ol>\n"
      ],
      "text/latex": [
       "\\begin{enumerate*}\n",
       "\\item 'KP260799|Makona-Mali-DPR1|2014-10-23'\n",
       "\\item 'KP260800|Makona-Mali-DPR2|2014-11-12'\n",
       "\\item 'KP260801|Makona-Mali-DPR3|2014-11-21'\n",
       "\\item 'KP260802|Makona-Mali-DPR4|2014-11-12'\n",
       "\\item 'KM233035|Makona-EM104|2014-06-02'\n",
       "\\item 'KM233073|Makona-G3786|2014-06-14'\n",
       "\\item 'KM233078|Makona-G3796|2014-06-15'\n",
       "\\item 'KM233042|Makona-EM119|2014-06-03'\n",
       "\\item 'KM233040|Makona-EM113|2014-06-03'\n",
       "\\item 'KM233049|Makona-G3707|2014-06-06'\n",
       "\\end{enumerate*}\n"
      ],
      "text/markdown": [
       "1. 'KP260799|Makona-Mali-DPR1|2014-10-23'\n",
       "2. 'KP260800|Makona-Mali-DPR2|2014-11-12'\n",
       "3. 'KP260801|Makona-Mali-DPR3|2014-11-21'\n",
       "4. 'KP260802|Makona-Mali-DPR4|2014-11-12'\n",
       "5. 'KM233035|Makona-EM104|2014-06-02'\n",
       "6. 'KM233073|Makona-G3786|2014-06-14'\n",
       "7. 'KM233078|Makona-G3796|2014-06-15'\n",
       "8. 'KM233042|Makona-EM119|2014-06-03'\n",
       "9. 'KM233040|Makona-EM113|2014-06-03'\n",
       "10. 'KM233049|Makona-G3707|2014-06-06'\n",
       "\n",
       "\n"
      ],
      "text/plain": [
       " [1] \"KP260799|Makona-Mali-DPR1|2014-10-23\"\n",
       " [2] \"KP260800|Makona-Mali-DPR2|2014-11-12\"\n",
       " [3] \"KP260801|Makona-Mali-DPR3|2014-11-21\"\n",
       " [4] \"KP260802|Makona-Mali-DPR4|2014-11-12\"\n",
       " [5] \"KM233035|Makona-EM104|2014-06-02\"    \n",
       " [6] \"KM233073|Makona-G3786|2014-06-14\"    \n",
       " [7] \"KM233078|Makona-G3796|2014-06-15\"    \n",
       " [8] \"KM233042|Makona-EM119|2014-06-03\"    \n",
       " [9] \"KM233040|Makona-EM113|2014-06-03\"    \n",
       "[10] \"KM233049|Makona-G3707|2014-06-06\"    "
      ]
     },
     "execution_count": 43,
     "metadata": {},
     "output_type": "execute_result"
    }
   ],
   "source": [
    "library(ape)\n",
    "Aln <- read.dna(file = \"../alignments/Gire_Mali_old.fasta\", format = \"fasta\") ## correct alignment\n",
    "head(rownames(Aln), 10)"
   ]
  },
  {
   "cell_type": "code",
   "execution_count": null,
   "metadata": {
    "collapsed": true
   },
   "outputs": [],
   "source": [
    "N <- nrow(Aln)\n",
    "newNames <- rep(NA, N)\n",
    "for(i in 1:N){\n",
    "  pos1 <- grep(uniqueMap$correct[i], rownames(Aln))\n",
    "  pos2 <- grep(uniqueMap$matching[i], rownames(Aln))\n",
    "  newNames[pos1] <- rownames(Aln)[pos2]\n",
    "}\n",
    "aln.scrambled <- Aln \n",
    "rownames(aln.scrambled) <- newNames\n",
    "write.dna(aln.scrambled, file = \"../alignments/Gire_Mali_old_shuffled.fasta\", format = \"fasta\")"
   ]
  }
 ],
 "metadata": {
  "kernelspec": {
   "display_name": "R",
   "language": "R",
   "name": "ir"
  },
  "language_info": {
   "codemirror_mode": "r",
   "file_extension": ".r",
   "mimetype": "text/x-r-source",
   "name": "R",
   "pygments_lexer": "r",
   "version": "3.2.3"
  }
 },
 "nbformat": 4,
 "nbformat_minor": 0
}
