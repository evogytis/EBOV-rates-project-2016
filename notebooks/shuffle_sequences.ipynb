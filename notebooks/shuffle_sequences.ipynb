{
 "cells": [
  {
   "cell_type": "markdown",
   "metadata": {},
   "source": [
    "This script will take the sequences in [Gire_Mali_old.fasta](https://github.com/evogytis/EBOV-rates-project-2016/blob/master/alignments/Gire_Mali_old.fasta) and, keeping the sequences from Guinea and Mali intact, sort the labels of the remaining sequences. This will produce a \"shuffling\" of the sequences, that is, a mismatch between the sequences and their correct labels."
   ]
  },
  {
   "cell_type": "code",
   "execution_count": null,
   "metadata": {
    "collapsed": false
   },
   "outputs": [],
   "source": [
    "library(ape)\n",
    "aln <- read.dna(file = \"../alignments/Gire_Mali_old.fasta\", format = \"fasta\")\n",
    "aln\n",
    "head(rownames(aln), 10)\n",
    "rownames(aln)\n",
    "( mali.pos <- grep(\"Mali\", rownames(aln)) )\n",
    "( guinea.pos <- c(grep(\"Kissidougou\", rownames(aln)), grep(\"Gueckedou\", rownames(aln))) )\n",
    "not.change <- c(mali.pos, guinea.pos)\n",
    "Tochange <- rownames(aln)[-not.change] ## which labels we will \"scramble\"\n",
    "corresp <- data.frame(original = Tochange, shuffled = sort(Tochange)) ## look at the correspondence\n",
    "head(corresp)\n",
    "write.table(corresp, file = \"../alignments/shuffling_correspondence.txt\")\n",
    "scrambled.Labels <- rownames(aln)\n",
    "scrambled.Labels[setdiff(seq_along(scrambled.Labels), not.change)] <- sort(Tochange)\n",
    "aln.scrambled <- aln\n",
    "rownames(aln.scrambled) <- scrambled.Labels\n",
    "# Asserting...\n",
    "all.equal(grep(\"Mali\", rownames(aln)), grep(\"Mali\", rownames(aln.scrambled)))\n",
    "all.equal(c(grep(\"Kissidougou\", rownames(aln)), grep(\"Gueckedou\", rownames(aln))),\n",
    "          c(grep(\"Kissidougou\", rownames(aln.scrambled)), grep(\"Gueckedou\", rownames(aln.scrambled)))\n",
    ")\n",
    "write.dna(aln.scrambled, file = \"../alignments/Gire_Mali_old_shuffled.fasta\", format = \"fasta\")\n"
   ]
  }
 ],
 "metadata": {
  "kernelspec": {
   "display_name": "R",
   "language": "R",
   "name": "ir"
  },
  "language_info": {
   "codemirror_mode": "r",
   "file_extension": ".r",
   "mimetype": "text/x-r-source",
   "name": "R",
   "pygments_lexer": "r",
   "version": "3.2.3"
  }
 },
 "nbformat": 4,
 "nbformat_minor": 0
}
